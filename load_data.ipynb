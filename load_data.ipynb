{
 "cells": [
  {
   "cell_type": "markdown",
   "metadata": {},
   "source": [
    "### Le chemin de nos données"
   ]
  },
  {
   "cell_type": "code",
   "execution_count": 4,
   "metadata": {
    "id": "n_OkpjrpFXXG"
   },
   "outputs": [],
   "source": [
    "path = \"./data/\""
   ]
  },
  {
   "cell_type": "markdown",
   "metadata": {},
   "source": [
    "### Chargement des données"
   ]
  },
  {
   "cell_type": "code",
   "execution_count": 5,
   "metadata": {},
   "outputs": [],
   "source": [
    "import os\n",
    "import shutil\n",
    "\n",
    "import numpy as np\n",
    "import PIL\n",
    "from PIL import Image\n",
    "import os, sys\n",
    "from scipy.io import loadmat\n",
    "\n",
    "\n",
    "def load_data(data_path, classes, dataset='train', image_size=64):\n",
    "\n",
    "    num_images = 0\n",
    "    for i in range(len(classes)):\n",
    "        dirs = sorted(os.listdir(data_path + dataset + '/' + classes[i]))\n",
    "        num_images += len(dirs)\n",
    "                                \n",
    "    x = np.zeros((num_images, image_size, image_size, 3))\n",
    "    y = np.zeros((num_images, 1))\n",
    "    \n",
    "    current_index = 0\n",
    "    \n",
    "    # Parcours des différents répertoires pour collecter les images\n",
    "    for idx_class in range(len(classes)):\n",
    "        dirs = sorted(os.listdir(data_path + dataset + '/' + classes[idx_class]))\n",
    "        num_images += len(dirs)\n",
    "    \n",
    "        # Chargement des images, \n",
    "        for idx_img in range(len(dirs)):\n",
    "            item = dirs[idx_img]\n",
    "            if os.path.isfile(data_path + dataset + '/' + classes[idx_class] + '/' + item):\n",
    "                # Ouverture de l'image\n",
    "                img = Image.open(data_path + dataset + '/' + classes[idx_class] + '/' + item)\n",
    "                # Conversion de l'image en RGB\n",
    "                img = img.convert('RGB')\n",
    "                # Redimensionnement de l'image et écriture dans la variable de retour x \n",
    "                img = img.resize((image_size,image_size))\n",
    "                x[current_index] = np.asarray(img)\n",
    "                # Écriture du label associé dans la variable de retour y\n",
    "                y[current_index] = idx_class\n",
    "                current_index += 1\n",
    "                \n",
    "    return x, y"
   ]
  },
  {
   "cell_type": "markdown",
   "metadata": {},
   "source": [
    "### Exemple de chargement de données"
   ]
  },
  {
   "cell_type": "code",
   "execution_count": 6,
   "metadata": {},
   "outputs": [
    {
     "name": "stdout",
     "output_type": "stream",
     "text": [
      "(978, 64, 64, 3) (978, 1)\n",
      "(445, 64, 64, 3) (445, 1)\n",
      "(493, 64, 64, 3) (493, 1)\n"
     ]
    }
   ],
   "source": [
    "labels = ['angry', 'sad','happiness','crying','disgusted','fear']\n",
    "\n",
    "x_train, y_train = load_data(path, labels, dataset='train', image_size=64)\n",
    "print(x_train.shape, y_train.shape)\n",
    "\n",
    "x_val, y_val = load_data(path, labels, dataset='validation', image_size=64)\n",
    "print(x_val.shape, y_val.shape)\n",
    "\n",
    "x_test, y_test = load_data(path, labels, dataset='test', image_size=64)\n",
    "print(x_test.shape, y_test.shape)"
   ]
  }
 ],
 "metadata": {
  "accelerator": "GPU",
  "colab": {
   "collapsed_sections": [],
   "machine_shape": "hm",
   "name": "IAM2020 - TP3 - Classification de chiens et chats.ipynb",
   "provenance": [],
   "toc_visible": true
  },
  "kernelspec": {
   "display_name": "Python 3",
   "language": "python",
   "name": "python3"
  },
  "language_info": {
   "codemirror_mode": {
    "name": "ipython",
    "version": 3
   },
   "file_extension": ".py",
   "mimetype": "text/x-python",
   "name": "python",
   "nbconvert_exporter": "python",
   "pygments_lexer": "ipython3",
   "version": "3.12.1"
  }
 },
 "nbformat": 4,
 "nbformat_minor": 1
}
